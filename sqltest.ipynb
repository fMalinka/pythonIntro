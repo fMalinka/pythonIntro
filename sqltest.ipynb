{
 "cells": [
  {
   "cell_type": "code",
   "execution_count": 1,
   "metadata": {},
   "outputs": [
    {
     "name": "stdout",
     "output_type": "stream",
     "text": [
      "SQL Server\n",
      "Microsoft Access Driver (*.mdb, *.accdb)\n",
      "Microsoft Excel Driver (*.xls, *.xlsx, *.xlsm, *.xlsb)\n",
      "Microsoft Access Text Driver (*.txt, *.csv)\n"
     ]
    }
   ],
   "source": [
    "#connect sql\n",
    "import pyodbc\n",
    "\n",
    "#connection setting\n",
    "server = 'server_name'\n",
    "database = 'db_name'\n",
    "username = 'username'\n",
    "password = 'password'\n",
    "\n",
    "# The driver you are going to use - now, hard to say... lets see what we have\n",
    "for driver in pyodbc.drivers():\n",
    "    print(driver)\n",
    "\n",
    "driver= '{ODBC Driver 13 for SQL Server}'\n",
    "\n",
    "#connecting\n",
    "#conn = pyodbc.connect('DRIVER='+driver\n",
    "#                      +';PORT=1433;SERVER='+server\n",
    "#                      +';DATABASE='+database\n",
    "#                      +';UID='+username+';PWD='+ password)\n",
    "\n",
    "#create a cursor - I would say a session since it must be closed\n",
    "#curson = conn.cursor()\n",
    "\n",
    "#in select just call execute\n",
    "\n",
    "#cursor.execute(\"SELECT FROM TABLE\")\n",
    "#rows = cursor.fetchall()\n",
    "#for row in rows:\n",
    "#    print(row[0],row[1])\n",
    "\n",
    "#in insert, update and remove commit must appeared\n",
    "#cursor.execute(\"INSERT into TABLE VALUES ('test')\")\n",
    "#cursor.commit()\n",
    "\n",
    "#close the connection and remove the cursor\n",
    "#cursor.close()\n",
    "#conn.close()"
   ]
  }
 ],
 "metadata": {
  "interpreter": {
   "hash": "c58f1d446a10f56abd790b8999ca91b105d88cea35470c93be5a117fec9046ce"
  },
  "kernelspec": {
   "display_name": "Python 3.9.9 64-bit (windows store)",
   "language": "python",
   "name": "python3"
  },
  "language_info": {
   "codemirror_mode": {
    "name": "ipython",
    "version": 3
   },
   "file_extension": ".py",
   "mimetype": "text/x-python",
   "name": "python",
   "nbconvert_exporter": "python",
   "pygments_lexer": "ipython3",
   "version": "3.9.9"
  },
  "orig_nbformat": 4
 },
 "nbformat": 4,
 "nbformat_minor": 2
}
