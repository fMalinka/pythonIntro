{
 "cells": [
  {
   "cell_type": "code",
   "execution_count": 5,
   "metadata": {},
   "outputs": [
    {
     "name": "stdout",
     "output_type": "stream",
     "text": [
      "<class 'int'>\n",
      "<class 'str'>\n",
      "<class 'float'>\n"
     ]
    }
   ],
   "source": [
    "#data types\n",
    "x = 5\n",
    "y = \"asdsa\"\n",
    "z = 10.555\n",
    "print(type(x))\n",
    "print(type(y))\n",
    "print(type(z))"
   ]
  },
  {
   "cell_type": "code",
   "execution_count": 6,
   "metadata": {},
   "outputs": [
    {
     "name": "stdout",
     "output_type": "stream",
     "text": [
      "['a', 'b', 'c', 'a']\n",
      "[1, 2, 3]\n",
      "[1, 'asda', 1.0222]\n",
      "['a', 'b', 'c', 'a']\n",
      "['a', 'b', 'c', 'a']\n",
      "['aa', 'b', 'c', 'a']\n",
      "['aa', 'b', 'c', 'a', 'end']\n",
      "['aa', 'second', 'b', 'c', 'a', 'end']\n",
      "aa\n",
      "second\n",
      "b\n",
      "c\n",
      "a\n",
      "end\n",
      "aa\n",
      "second\n",
      "b\n",
      "c\n",
      "a\n",
      "end\n"
     ]
    }
   ],
   "source": [
    "#more complex data types\n",
    "\n",
    "#LIST - ordered, changeable, duplicities, heterogenous\n",
    "mylist = [\"a\", \"b\", \"c\", \"a\"]\n",
    "print(mylist)\n",
    "\n",
    "mylist2 = [1,2,3]\n",
    "mylist3 = [1, \"asda\", 1.0222]\n",
    "\n",
    "print(mylist2)\n",
    "print(mylist3)\n",
    "\n",
    "#indexing\n",
    "mylist[0]\n",
    "print(mylist[0:500])\n",
    "print(mylist[0:5])\n",
    "\n",
    "#change\n",
    "mylist[0] = \"aa\"\n",
    "print(mylist)\n",
    "\n",
    "#append vs insert\n",
    "mylist.append(\"end\")\n",
    "print(mylist)\n",
    "mylist.insert(1, \"second\")\n",
    "print(mylist)\n",
    "\n",
    "#remove vs pop\n",
    "#...as expected\n",
    "\n",
    "#iterations\n",
    "for element in mylist:\n",
    "    print(element)\n",
    "#using index\n",
    "for index in range(len(mylist)):\n",
    "    print(mylist[index]\n",
    ")\n",
    "\n",
    "#other methods .....\n",
    "#sort, copy, join, ..."
   ]
  },
  {
   "cell_type": "code",
   "execution_count": 7,
   "metadata": {},
   "outputs": [
    {
     "ename": "TypeError",
     "evalue": "'tuple' object does not support item assignment",
     "output_type": "error",
     "traceback": [
      "\u001b[1;31m---------------------------------------------------------------------------\u001b[0m",
      "\u001b[1;31mTypeError\u001b[0m                                 Traceback (most recent call last)",
      "\u001b[1;32m~\\AppData\\Local\\Temp/ipykernel_18588/2145559014.py\u001b[0m in \u001b[0;36m<module>\u001b[1;34m\u001b[0m\n\u001b[0;32m      3\u001b[0m \u001b[0mmytuple2\u001b[0m \u001b[1;33m=\u001b[0m \u001b[1;33m(\u001b[0m\u001b[1;36m1\u001b[0m\u001b[1;33m,\u001b[0m \u001b[1;36m2\u001b[0m \u001b[1;33m,\u001b[0m\u001b[1;36m3\u001b[0m\u001b[1;33m,\u001b[0m \u001b[1;34m\"four\"\u001b[0m\u001b[1;33m)\u001b[0m\u001b[1;33m\u001b[0m\u001b[1;33m\u001b[0m\u001b[0m\n\u001b[0;32m      4\u001b[0m \u001b[1;33m\u001b[0m\u001b[0m\n\u001b[1;32m----> 5\u001b[1;33m \u001b[0mmytuple\u001b[0m\u001b[1;33m[\u001b[0m\u001b[1;36m0\u001b[0m\u001b[1;33m]\u001b[0m \u001b[1;33m=\u001b[0m \u001b[1;34m\"1\"\u001b[0m\u001b[1;33m\u001b[0m\u001b[1;33m\u001b[0m\u001b[0m\n\u001b[0m",
      "\u001b[1;31mTypeError\u001b[0m: 'tuple' object does not support item assignment"
     ]
    }
   ],
   "source": [
    "#TUPLE - ordered, unchangeable, duplicities, heterogenous\n",
    "mytuple = (\"first\", \"second\", \"3\", \"second\")\n",
    "mytuple2 = (1, 2 ,3, \"four\")\n",
    "\n",
    "mytuple[0] = \"1\""
   ]
  },
  {
   "cell_type": "code",
   "execution_count": null,
   "metadata": {},
   "outputs": [
    {
     "name": "stdout",
     "output_type": "stream",
     "text": [
      "{'1', 3, 'two'}\n",
      "1\n",
      "3\n",
      "two\n",
      "True\n",
      "False\n"
     ]
    }
   ],
   "source": [
    "#SET - unordered, unchangeable - but allows insert and remove, non-duplicites, heterogenous\n",
    "myset = {\"1\", \"two\", 3, \"two\"}\n",
    "print(myset) #duplicites are removed!\n",
    "\n",
    "#indexing - DOES NOT EXIST\n",
    "#USE IF or IN\n",
    "for element in myset:\n",
    "    print(element)    \n",
    "print(\"1\" in myset)\n",
    "print(1 in myset)\n",
    "\n",
    "#add, remove - without index, of course"
   ]
  },
  {
   "cell_type": "code",
   "execution_count": null,
   "metadata": {},
   "outputs": [
    {
     "name": "stdout",
     "output_type": "stream",
     "text": [
      "{'one': 1, 'two': 2, 'three': 3}\n",
      "{'one': 2}\n",
      "{'int': 1, 'float': 2.14, 'string': 'mystring', 'list': ['el1', 'el2', 'el3']}\n",
      "dict_keys(['int', 'float', 'string', 'list'])\n",
      "['el1', 'el2', 'el3']\n",
      "key exists\n",
      "key-int\n",
      "key-float\n",
      "key-string\n",
      "key-list\n",
      "<class 'list'>\n",
      "int\n",
      "1\n"
     ]
    }
   ],
   "source": [
    "#DICTIONARIES - ordered (python >3.7), changeable, non-duplicities (duplicities are rewritten), heterogenous\n",
    "\n",
    "mydist = {\"one\" : 1, \"two\" : 2, \"three\" : 3}\n",
    "print(mydist)\n",
    "mydist2 = {\"one\" : 1, \"one\" : 2}\n",
    "print(mydist2)\n",
    "\n",
    "mydist3 = {\"int\": 1, \"float\" : 2.14, \"string\" : \"mystring\", \"list\" : [\"el1\", \"el2\", \"el3\"]}\n",
    "print(mydist3)\n",
    "\n",
    "#access\n",
    "allkeys = mydist3.keys()\n",
    "print(allkeys)\n",
    "print(mydist3[\"list\"])\n",
    "#print(string(allkeys[2]))\n",
    "\n",
    "#check if key exists\n",
    "if \"list\" in mydist3:\n",
    "    print(\"key exists\")\n",
    "else:\n",
    "    print(\"key does not exist\")\n",
    "\n",
    "#iteration\n",
    "for el in mydist3:\n",
    "    print(\"key-\" + el)\n",
    "\n",
    "allkeys3 = list(mydist3)\n",
    "print(type(allkeys3))\n",
    "print(allkeys3[0])\n",
    "print(mydist3[\"int\"])"
   ]
  },
  {
   "cell_type": "code",
   "execution_count": null,
   "metadata": {},
   "outputs": [
    {
     "name": "stdout",
     "output_type": "stream",
     "text": [
      "match\n",
      "lorem 6 oimpsum dolor sit amet\n"
     ]
    }
   ],
   "source": [
    "#REGEX\n",
    "import re\n",
    "mytext = \"lorem 5 impsum dolor sit amet\"\n",
    "myout = re.search(\"\\d+\\s+i\", mytext)\n",
    "if myout:\n",
    "    print(\"match\")\n",
    "else:\n",
    "    print(\"nomatch\")\n",
    "\n",
    "mynew = re.sub(\"\\d+\\s+\", \"6 o\", mytext)\n",
    "print(mynew)"
   ]
  },
  {
   "cell_type": "code",
   "execution_count": 8,
   "metadata": {},
   "outputs": [
    {
     "name": "stdout",
     "output_type": "stream",
     "text": [
      "0    1\n",
      "1    7\n",
      "2    2\n",
      "dtype: int64\n",
      "one      1\n",
      "two      7\n",
      "three    2\n",
      "dtype: int64\n",
      "7\n",
      "7\n",
      "   first second\n",
      "0      1     b1\n",
      "1      2     b2\n",
      "2      3     b3\n"
     ]
    }
   ],
   "source": [
    "#PANDAS - dataframe as is presented in R :-)\n",
    "import pandas as pd\n",
    "\n",
    "#SERIES - like a column in R dataframe\n",
    "c1 = [1, 7, 2]\n",
    "mycol1 = pd.Series(c1)\n",
    "print(mycol1)\n",
    "\n",
    "#rownames\n",
    "mycol2 = pd.Series(c1, index=[\"one\", \"two\", \"three\"])\n",
    "print(mycol2)\n",
    "\n",
    "#indexing\n",
    "print(mycol1[1])\n",
    "print(mycol2[\"two\"])\n",
    "\n",
    "# OR we can transform dictionaries into series where keys will be labels\n",
    "\n",
    "#DATAFRAME - as a collection of SERIES\n",
    "mydata = {\"first\": [1,2,3],\n",
    "        \"second\": [\"b1\", \"b2\", \"b3\"]}\n",
    "mydf = pd.DataFrame(mydata)\n",
    "print(mydf)"
   ]
  },
  {
   "cell_type": "code",
   "execution_count": 9,
   "metadata": {},
   "outputs": [
    {
     "data": {
      "text/html": [
       "<div>\n",
       "<style scoped>\n",
       "    .dataframe tbody tr th:only-of-type {\n",
       "        vertical-align: middle;\n",
       "    }\n",
       "\n",
       "    .dataframe tbody tr th {\n",
       "        vertical-align: top;\n",
       "    }\n",
       "\n",
       "    .dataframe thead th {\n",
       "        text-align: right;\n",
       "    }\n",
       "</style>\n",
       "<table border=\"1\" class=\"dataframe\">\n",
       "  <thead>\n",
       "    <tr style=\"text-align: right;\">\n",
       "      <th></th>\n",
       "      <th>first</th>\n",
       "      <th>second</th>\n",
       "    </tr>\n",
       "  </thead>\n",
       "  <tbody>\n",
       "    <tr>\n",
       "      <th>0</th>\n",
       "      <td>1</td>\n",
       "      <td>b1</td>\n",
       "    </tr>\n",
       "    <tr>\n",
       "      <th>1</th>\n",
       "      <td>2</td>\n",
       "      <td>b2</td>\n",
       "    </tr>\n",
       "  </tbody>\n",
       "</table>\n",
       "</div>"
      ],
      "text/plain": [
       "   first second\n",
       "0      1     b1\n",
       "1      2     b2"
      ]
     },
     "execution_count": 9,
     "metadata": {},
     "output_type": "execute_result"
    }
   ],
   "source": [
    "#indexing in dfs\n",
    "#show columns\n",
    "mydf[[\"first\"]]\n",
    "#multiple column indexing\n",
    "mydf[[\"first\", \"second\"]]\n",
    "#or using loc\n",
    "mydf.loc[:,[\"first\"]]\n",
    "mydf.loc[0:2,[\"first\"]]\n",
    "mydf.loc[0:1]\n",
    "mydf.iloc[1, 1] #iloc like an \"index location\"\n",
    "#or\n",
    "mydf.loc[[0, 1]] #row one and two\n"
   ]
  },
  {
   "cell_type": "code",
   "execution_count": 13,
   "metadata": {},
   "outputs": [
    {
     "name": "stdout",
     "output_type": "stream",
     "text": [
      "model     object\n",
      "mpg      float64\n",
      "cyl        int64\n",
      "disp     float64\n",
      "hp         int64\n",
      "drat     float64\n",
      "wt       float64\n",
      "qsec     float64\n",
      "vs         int64\n",
      "am         int64\n",
      "gear       int64\n",
      "carb       int64\n",
      "dtype: object\n",
      "[21.0 21.0 22.8 21.4 18.7 18.1 14.3 24.4 22.8 19.2 17.8 16.4 17.3 15.2\n",
      " 10.4 10.4 14.7 32.4 30.4 33.9 21.5 15.5 15.2 13.3 19.2 27.3 26.0 30.4\n",
      " 15.8 19.7 15.0 21.4]\n",
      "model\n",
      "0\n"
     ]
    },
    {
     "data": {
      "text/plain": [
       "35.188974609374995"
      ]
     },
     "execution_count": 13,
     "metadata": {},
     "output_type": "execute_result"
    }
   ],
   "source": [
    "#dataset mtcars from R example datasets\n",
    "mydf = pd.read_csv(\"mtcars.csv\")\n",
    "#show mpq\n",
    "mydf.loc[:,[\"model\", \"mpg\"]]\n",
    "#higher than 20\n",
    "si = mydf.loc[:,[\"mpg\"]] > 20\n",
    "si[\"mpg\"]\n",
    "mydf.loc[si[\"mpg\"]]\n",
    "#or more simply\n",
    "mydf[mydf['mpg'] > 20]\n",
    "#note - using loc we adress rows, without loc -> columns\n",
    "\n",
    "#show only mazda cars, using re\n",
    "mydf[mydf[\"model\"].str.contains(\"^mazda\", case=False)]\n",
    "\n",
    "#data types of columns\n",
    "print(mydf.dtypes)\n",
    "#indexing - values\n",
    "print(mydf.values[:,1])\n",
    "print(mydf.columns[0])\n",
    "print(mydf.index[0])\n",
    "\n",
    "#basic stats\n",
    "import numpy as np\n",
    "np.mean(mydf[\"mpg\"])\n",
    "np.sum(mydf[\"mpg\"])\n",
    "np.var(mydf[\"mpg\"])\n"
   ]
  },
  {
   "cell_type": "code",
   "execution_count": 55,
   "metadata": {},
   "outputs": [
    {
     "name": "stdout",
     "output_type": "stream",
     "text": [
      "[False False False False False False False False  True  True  True False]\n",
      "Index(['vs', 'am', 'gear'], dtype='object')\n",
      "                  model   mpg  cyl   disp   hp  drat     wt   qsec   vs   am  \\\n",
      "0             Mazda RX4  21.0    6  160.0  110  3.90  2.620  16.46  0.0  1.0   \n",
      "1         Mazda RX4 Wag  21.0    6  160.0  110  3.90  2.875  17.02  0.0  1.0   \n",
      "2            Datsun 710  22.8    4  108.0   93  3.85  2.320  18.61  1.0  1.0   \n",
      "3        Hornet 4 Drive  21.4    6  258.0  110  3.08  3.215  19.44  1.0  0.0   \n",
      "4     Hornet Sportabout  18.7    8  360.0  175  3.15  3.440  17.02  0.0  0.0   \n",
      "5               Valiant  18.1    6  225.0  105  2.76  3.460  20.22  1.0  0.0   \n",
      "6            Duster 360  14.3    8  360.0  245  3.21  3.570  15.84  0.0  0.0   \n",
      "7             Merc 240D  24.4    4  146.7   62  3.69  3.190  20.00  1.0  0.0   \n",
      "8              Merc 230  22.8    4  140.8   95  3.92  3.150  22.90  1.0  0.0   \n",
      "9              Merc 280  19.2    6  167.6  123  3.92  3.440  18.30  1.0  0.0   \n",
      "10            Merc 280C  17.8    6  167.6  123  3.92  3.440  18.90  1.0  0.0   \n",
      "11           Merc 450SE  16.4    8  275.8  180  3.07  4.070  17.40  0.0  0.0   \n",
      "12           Merc 450SL  17.3    8  275.8  180  3.07  3.730  17.60  0.0  0.0   \n",
      "13          Merc 450SLC  15.2    8  275.8  180  3.07  3.780  18.00  0.0  0.0   \n",
      "14   Cadillac Fleetwood  10.4    8  472.0  205  2.93  5.250  17.98  0.0  0.0   \n",
      "15  Lincoln Continental  10.4    8  460.0  215  3.00  5.424  17.82  0.0  0.0   \n",
      "16    Chrysler Imperial  14.7    8  440.0  230  3.23  5.345  17.42  0.0  0.0   \n",
      "17             Fiat 128  32.4    4   78.7   66  4.08  2.200  19.47  1.0  1.0   \n",
      "18          Honda Civic  30.4    4   75.7   52  4.93  1.615  18.52  1.0  1.0   \n",
      "19       Toyota Corolla  33.9    4   71.1   65  4.22  1.835  19.90  1.0  1.0   \n",
      "20        Toyota Corona  21.5    4  120.1   97  3.70  2.465  20.01  1.0  0.0   \n",
      "21     Dodge Challenger  15.5    8  318.0  150  2.76  3.520  16.87  0.0  0.0   \n",
      "22          AMC Javelin  15.2    8  304.0  150  3.15  3.435  17.30  0.0  0.0   \n",
      "23           Camaro Z28  13.3    8  350.0  245  3.73  3.840  15.41  0.0  0.0   \n",
      "24     Pontiac Firebird  19.2    8  400.0  175  3.08  3.845  17.05  0.0  0.0   \n",
      "25            Fiat X1-9  27.3    4   79.0   66  4.08  1.935  18.90  1.0  1.0   \n",
      "26        Porsche 914-2  26.0    4  120.3   91  4.43  2.140  16.70  0.0  1.0   \n",
      "27         Lotus Europa  30.4    4   95.1  113  3.77  1.513  16.90  1.0  1.0   \n",
      "28       Ford Pantera L  15.8    8  351.0  264  4.22  3.170  14.50  0.0  1.0   \n",
      "29         Ferrari Dino  19.7    6  145.0  175  3.62  2.770  15.50  0.0  1.0   \n",
      "30        Maserati Bora  15.0    8  301.0  335  3.54  3.570  14.60  0.0  1.0   \n",
      "31           Volvo 142E  21.4    4  121.0  109  4.11  2.780  18.60  1.0  1.0   \n",
      "\n",
      "    gear  carb  \n",
      "0    4.0     4  \n",
      "1    4.0     4  \n",
      "2    4.0     1  \n",
      "3    3.0     1  \n",
      "4    3.0     2  \n",
      "5    3.0     1  \n",
      "6    3.0     4  \n",
      "7    4.0     2  \n",
      "8    4.0     2  \n",
      "9    4.0     4  \n",
      "10   4.0     4  \n",
      "11   3.0     3  \n",
      "12   3.0     3  \n",
      "13   3.0     3  \n",
      "14   3.0     4  \n",
      "15   3.0     4  \n",
      "16   3.0     4  \n",
      "17   4.0     1  \n",
      "18   4.0     2  \n",
      "19   4.0     1  \n",
      "20   3.0     1  \n",
      "21   3.0     2  \n",
      "22   3.0     2  \n",
      "23   3.0     4  \n",
      "24   3.0     2  \n",
      "25   4.0     1  \n",
      "26   5.0     2  \n",
      "27   5.0     2  \n",
      "28   5.0     4  \n",
      "29   5.0     6  \n",
      "30   5.0     8  \n",
      "31   4.0     2  \n"
     ]
    }
   ],
   "source": [
    "#NA values in python\n",
    "mydataNA = pd.read_csv(\"mtcars_na.csv\")\n",
    "#which model contains nan in \"vs\"\n",
    "mydataNA[mydataNA[\"vs\"].isna()][[\"model\"]]\n",
    "\n",
    "\n",
    "#at least one na\n",
    "#for repetition, numpys repeat function fits well\n",
    "flag = np.repeat(False, len(mydataNA.columns))\n",
    "for icol in range(0,len(mydataNA.columns)):\n",
    "    flag[icol] = mydataNA.iloc[:,icol].isna().any()    \n",
    "print(flag)\n",
    "#which contains na?\n",
    "print(mydataNA.columns[flag])\n",
    "#replace the nas with the min value of the corresponding column\n",
    "for nacol in mydataNA.columns[flag]:\n",
    "    minval = np.min(mydataNA[nacol])\n",
    "    mydataNA[nacol] = mydataNA[nacol].fillna(minval)\n",
    "print(mydataNA)"
   ]
  },
  {
   "cell_type": "code",
   "execution_count": 60,
   "metadata": {},
   "outputs": [
    {
     "name": "stdout",
     "output_type": "stream",
     "text": [
      "\u001b[1;31mSignature:\u001b[0m \u001b[0mlinear_regressor\u001b[0m\u001b[1;33m.\u001b[0m\u001b[0mfit\u001b[0m\u001b[1;33m(\u001b[0m\u001b[0mX\u001b[0m\u001b[1;33m,\u001b[0m \u001b[0my\u001b[0m\u001b[1;33m,\u001b[0m \u001b[0msample_weight\u001b[0m\u001b[1;33m=\u001b[0m\u001b[1;32mNone\u001b[0m\u001b[1;33m)\u001b[0m\u001b[1;33m\u001b[0m\u001b[1;33m\u001b[0m\u001b[0m\n",
      "\u001b[1;31mDocstring:\u001b[0m\n",
      "Fit linear model.\n",
      "\n",
      "Parameters\n",
      "----------\n",
      "X : {array-like, sparse matrix} of shape (n_samples, n_features)\n",
      "    Training data.\n",
      "\n",
      "y : array-like of shape (n_samples,) or (n_samples, n_targets)\n",
      "    Target values. Will be cast to X's dtype if necessary.\n",
      "\n",
      "sample_weight : array-like of shape (n_samples,), default=None\n",
      "    Individual weights for each sample.\n",
      "\n",
      "    .. versionadded:: 0.17\n",
      "       parameter *sample_weight* support to LinearRegression.\n",
      "\n",
      "Returns\n",
      "-------\n",
      "self : object\n",
      "    Fitted Estimator.\n",
      "\u001b[1;31mFile:\u001b[0m      c:\\users\\fmalinka\\appdata\\local\\packages\\pythonsoftwarefoundation.python.3.9_qbz5n2kfra8p0\\localcache\\local-packages\\python39\\site-packages\\sklearn\\linear_model\\_base.py\n",
      "\u001b[1;31mType:\u001b[0m      method\n"
     ]
    }
   ],
   "source": [
    "#now lets try linear regression\n",
    "#import liner regression from scikit-learn\n",
    "from sklearn.linear_model import LinearRegression\n",
    "#for visualization\n",
    "import matplotlib.pyplot as plt\n",
    "\n",
    "#crate an instantce of the class\n",
    "linear_regressor = LinearRegression()\n",
    "?linear_regressor.fit"
   ]
  }
 ],
 "metadata": {
  "interpreter": {
   "hash": "c58f1d446a10f56abd790b8999ca91b105d88cea35470c93be5a117fec9046ce"
  },
  "kernelspec": {
   "display_name": "Python 3.9.9 64-bit (windows store)",
   "language": "python",
   "name": "python3"
  },
  "language_info": {
   "codemirror_mode": {
    "name": "ipython",
    "version": 3
   },
   "file_extension": ".py",
   "mimetype": "text/x-python",
   "name": "python",
   "nbconvert_exporter": "python",
   "pygments_lexer": "ipython3",
   "version": "3.9.9"
  },
  "orig_nbformat": 4
 },
 "nbformat": 4,
 "nbformat_minor": 2
}
