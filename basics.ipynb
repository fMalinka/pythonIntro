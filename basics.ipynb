{
 "cells": [
  {
   "cell_type": "code",
   "execution_count": 3,
   "metadata": {},
   "outputs": [
    {
     "name": "stdout",
     "output_type": "stream",
     "text": [
      "<class 'int'>\n",
      "<class 'str'>\n",
      "<class 'float'>\n"
     ]
    }
   ],
   "source": [
    "#data types\n",
    "x = 5\n",
    "y = \"asdsa\"\n",
    "z = 10.555\n",
    "print(type(x))\n",
    "print(type(y))\n",
    "print(type(z))"
   ]
  },
  {
   "cell_type": "code",
   "execution_count": 19,
   "metadata": {},
   "outputs": [
    {
     "name": "stdout",
     "output_type": "stream",
     "text": [
      "['a', 'b', 'c', 'a']\n",
      "[1, 2, 3]\n",
      "[1, 'asda', 1.0222]\n",
      "['a', 'b', 'c', 'a']\n",
      "['a', 'b', 'c', 'a']\n",
      "['aa', 'b', 'c', 'a']\n",
      "['aa', 'b', 'c', 'a', 'end']\n",
      "['aa', 'second', 'b', 'c', 'a', 'end']\n",
      "aa\n",
      "second\n",
      "b\n",
      "c\n",
      "a\n",
      "end\n",
      "aa\n",
      "second\n",
      "b\n",
      "c\n",
      "a\n",
      "end\n"
     ]
    }
   ],
   "source": [
    "#more complex data types\n",
    "\n",
    "#LIST - ordered, changeable, duplicities, heterogenous\n",
    "mylist = [\"a\", \"b\", \"c\", \"a\"]\n",
    "print(mylist)\n",
    "\n",
    "mylist2 = [1,2,3]\n",
    "mylist3 = [1, \"asda\", 1.0222]\n",
    "\n",
    "print(mylist2)\n",
    "print(mylist3)\n",
    "\n",
    "#indexing\n",
    "mylist[0]\n",
    "print(mylist[0:500])\n",
    "print(mylist[0:5])\n",
    "\n",
    "#change\n",
    "mylist[0] = \"aa\"\n",
    "print(mylist)\n",
    "\n",
    "#append vs insert\n",
    "mylist.append(\"end\")\n",
    "print(mylist)\n",
    "mylist.insert(1, \"second\")\n",
    "print(mylist)\n",
    "\n",
    "#remove vs pop\n",
    "#...as expected\n",
    "\n",
    "#iterations\n",
    "for element in mylist:\n",
    "    print(element)\n",
    "#using index\n",
    "for index in range(len(mylist)):\n",
    "    print(mylist[index]\n",
    ")\n",
    "\n",
    "#other methods .....\n",
    "#sort, copy, join, ..."
   ]
  },
  {
   "cell_type": "code",
   "execution_count": 22,
   "metadata": {},
   "outputs": [
    {
     "ename": "TypeError",
     "evalue": "'tuple' object does not support item assignment",
     "output_type": "error",
     "traceback": [
      "\u001b[1;31m---------------------------------------------------------------------------\u001b[0m",
      "\u001b[1;31mTypeError\u001b[0m                                 Traceback (most recent call last)",
      "\u001b[1;32m~\\AppData\\Local\\Temp/ipykernel_2820/2145559014.py\u001b[0m in \u001b[0;36m<module>\u001b[1;34m\u001b[0m\n\u001b[0;32m      3\u001b[0m \u001b[0mmytuple2\u001b[0m \u001b[1;33m=\u001b[0m \u001b[1;33m(\u001b[0m\u001b[1;36m1\u001b[0m\u001b[1;33m,\u001b[0m \u001b[1;36m2\u001b[0m \u001b[1;33m,\u001b[0m\u001b[1;36m3\u001b[0m\u001b[1;33m,\u001b[0m \u001b[1;34m\"four\"\u001b[0m\u001b[1;33m)\u001b[0m\u001b[1;33m\u001b[0m\u001b[1;33m\u001b[0m\u001b[0m\n\u001b[0;32m      4\u001b[0m \u001b[1;33m\u001b[0m\u001b[0m\n\u001b[1;32m----> 5\u001b[1;33m \u001b[0mmytuple\u001b[0m\u001b[1;33m[\u001b[0m\u001b[1;36m0\u001b[0m\u001b[1;33m]\u001b[0m \u001b[1;33m=\u001b[0m \u001b[1;34m\"1\"\u001b[0m\u001b[1;33m\u001b[0m\u001b[1;33m\u001b[0m\u001b[0m\n\u001b[0m",
      "\u001b[1;31mTypeError\u001b[0m: 'tuple' object does not support item assignment"
     ]
    }
   ],
   "source": [
    "#TUPLE - ordered, unchangeable, duplicities, heterogenous\n",
    "mytuple = (\"first\", \"second\", \"3\", \"second\")\n",
    "mytuple2 = (1, 2 ,3, \"four\")\n",
    "\n",
    "mytuple[0] = \"1\""
   ]
  },
  {
   "cell_type": "code",
   "execution_count": 27,
   "metadata": {},
   "outputs": [
    {
     "name": "stdout",
     "output_type": "stream",
     "text": [
      "{'1', 3, 'two'}\n",
      "1\n",
      "3\n",
      "two\n",
      "True\n",
      "False\n"
     ]
    }
   ],
   "source": [
    "#SET - unordered, unchangeable - but allows insert and remove, non-duplicites, heterogenous\n",
    "myset = {\"1\", \"two\", 3, \"two\"}\n",
    "print(myset) #duplicites are removed!\n",
    "\n",
    "#indexing - DOES NOT EXIST\n",
    "#USE IF or IN\n",
    "for element in myset:\n",
    "    print(element)    \n",
    "print(\"1\" in myset)\n",
    "print(1 in myset)\n",
    "\n",
    "#add, remove - without index, of course"
   ]
  },
  {
   "cell_type": "code",
   "execution_count": 36,
   "metadata": {},
   "outputs": [
    {
     "name": "stdout",
     "output_type": "stream",
     "text": [
      "{'one': 1, 'two': 2, 'three': 3}\n",
      "{'one': 2}\n",
      "{'int': 1, 'float': 2.14, 'string': 'mystring', 'list': ['el1', 'el2', 'el3']}\n",
      "dict_keys(['int', 'float', 'string', 'list'])\n",
      "['el1', 'el2', 'el3']\n",
      "key exists\n",
      "key-int\n",
      "key-float\n",
      "key-string\n",
      "key-list\n",
      "<class 'list'>\n",
      "int\n",
      "1\n"
     ]
    }
   ],
   "source": [
    "#DICTIONARIES - ordered (python >3.7), changeable, non-duplicities (duplicities are rewritten), heterogenous\n",
    "\n",
    "mydist = {\"one\" : 1, \"two\" : 2, \"three\" : 3}\n",
    "print(mydist)\n",
    "mydist2 = {\"one\" : 1, \"one\" : 2}\n",
    "print(mydist2)\n",
    "\n",
    "mydist3 = {\"int\": 1, \"float\" : 2.14, \"string\" : \"mystring\", \"list\" : [\"el1\", \"el2\", \"el3\"]}\n",
    "print(mydist3)\n",
    "\n",
    "#access\n",
    "allkeys = mydist3.keys()\n",
    "print(allkeys)\n",
    "print(mydist3[\"list\"])\n",
    "#print(string(allkeys[2]))\n",
    "\n",
    "#check if key exists\n",
    "if \"list\" in mydist3:\n",
    "    print(\"key exists\")\n",
    "else:\n",
    "    print(\"key does not exist\")\n",
    "\n",
    "#iteration\n",
    "for el in mydist3:\n",
    "    print(\"key-\" + el)\n",
    "\n",
    "allkeys3 = list(mydist3)\n",
    "print(type(allkeys3))\n",
    "print(allkeys3[0])\n",
    "print(mydist3[\"int\"])"
   ]
  },
  {
   "cell_type": "code",
   "execution_count": 48,
   "metadata": {},
   "outputs": [
    {
     "name": "stdout",
     "output_type": "stream",
     "text": [
      "match\n",
      "lorem 6 oimpsum dolor sit amet\n"
     ]
    }
   ],
   "source": [
    "#REGEX\n",
    "import re\n",
    "mytext = \"lorem 5 impsum dolor sit amet\"\n",
    "myout = re.search(\"\\d+\\s+i\", mytext)\n",
    "if myout:\n",
    "    print(\"match\")\n",
    "else:\n",
    "    print(\"nomatch\")\n",
    "\n",
    "mynew = re.sub(\"\\d+\\s+\", \"6 o\", mytext)\n",
    "print(mynew)"
   ]
  },
  {
   "cell_type": "code",
   "execution_count": 2,
   "metadata": {},
   "outputs": [
    {
     "name": "stdout",
     "output_type": "stream",
     "text": [
      "0    1\n",
      "1    7\n",
      "2    2\n",
      "dtype: int64\n",
      "one      1\n",
      "two      7\n",
      "three    2\n",
      "dtype: int64\n",
      "7\n",
      "7\n",
      "   first second\n",
      "0      1     b1\n",
      "1      2     b2\n",
      "2      3     b3\n"
     ]
    }
   ],
   "source": [
    "#PANDAS - dataframe as is presented in R :-)\n",
    "import pandas as pd\n",
    "\n",
    "#SERIES - like a column in R dataframe\n",
    "c1 = [1, 7, 2]\n",
    "mycol1 = pd.Series(c1)\n",
    "print(mycol1)\n",
    "\n",
    "#rownames\n",
    "mycol2 = pd.Series(c1, index=[\"one\", \"two\", \"three\"])\n",
    "print(mycol2)\n",
    "\n",
    "#indexing\n",
    "print(mycol1[1])\n",
    "print(mycol2[\"two\"])\n",
    "\n",
    "# OR we can transform dictionaries into series where keys will be labels\n",
    "\n",
    "#DATAFRAME - as a collection of SERIES\n",
    "mydata = {\"first\": [1,2,3],\n",
    "        \"second\": [\"b1\", \"b2\", \"b3\"]}\n",
    "mydf = pd.DataFrame(mydata)\n",
    "print(mydf)"
   ]
  },
  {
   "cell_type": "code",
   "execution_count": 3,
   "metadata": {},
   "outputs": [
    {
     "data": {
      "text/html": [
       "<div>\n",
       "<style scoped>\n",
       "    .dataframe tbody tr th:only-of-type {\n",
       "        vertical-align: middle;\n",
       "    }\n",
       "\n",
       "    .dataframe tbody tr th {\n",
       "        vertical-align: top;\n",
       "    }\n",
       "\n",
       "    .dataframe thead th {\n",
       "        text-align: right;\n",
       "    }\n",
       "</style>\n",
       "<table border=\"1\" class=\"dataframe\">\n",
       "  <thead>\n",
       "    <tr style=\"text-align: right;\">\n",
       "      <th></th>\n",
       "      <th>first</th>\n",
       "      <th>second</th>\n",
       "    </tr>\n",
       "  </thead>\n",
       "  <tbody>\n",
       "    <tr>\n",
       "      <th>0</th>\n",
       "      <td>1</td>\n",
       "      <td>b1</td>\n",
       "    </tr>\n",
       "    <tr>\n",
       "      <th>1</th>\n",
       "      <td>2</td>\n",
       "      <td>b2</td>\n",
       "    </tr>\n",
       "  </tbody>\n",
       "</table>\n",
       "</div>"
      ],
      "text/plain": [
       "   first second\n",
       "0      1     b1\n",
       "1      2     b2"
      ]
     },
     "execution_count": 3,
     "metadata": {},
     "output_type": "execute_result"
    }
   ],
   "source": [
    "#indexing in dfs\n",
    "#show columns\n",
    "mydf[[\"first\"]]\n",
    "#multiple column indexing\n",
    "mydf[[\"first\", \"second\"]]\n",
    "#or using loc\n",
    "mydf.loc[:,[\"first\"]]\n",
    "mydf.loc[0:2,[\"first\"]]\n",
    "mydf.loc[0:1]\n",
    "mydf.iloc[1, 1] #iloc like an \"index location\"\n",
    "#or\n",
    "mydf.loc[[0, 1]] #row one and two\n"
   ]
  },
  {
   "cell_type": "code",
   "execution_count": 21,
   "metadata": {},
   "outputs": [
    {
     "name": "stdout",
     "output_type": "stream",
     "text": [
      "model     object\n",
      "mpg      float64\n",
      "cyl        int64\n",
      "disp     float64\n",
      "hp         int64\n",
      "drat     float64\n",
      "wt       float64\n",
      "qsec     float64\n",
      "vs         int64\n",
      "am         int64\n",
      "gear       int64\n",
      "carb       int64\n",
      "dtype: object\n",
      "[21.0 21.0 22.8 21.4 18.7 18.1 14.3 24.4 22.8 19.2 17.8 16.4 17.3 15.2\n",
      " 10.4 10.4 14.7 32.4 30.4 33.9 21.5 15.5 15.2 13.3 19.2 27.3 26.0 30.4\n",
      " 15.8 19.7 15.0 21.4]\n",
      "model\n",
      "0\n"
     ]
    },
    {
     "data": {
      "text/plain": [
       "<NA>"
      ]
     },
     "execution_count": 21,
     "metadata": {},
     "output_type": "execute_result"
    }
   ],
   "source": [
    "#dataset mtcars from R example datasets\n",
    "mydf = pd.read_csv(\"mtcars.csv\")\n",
    "#show mpq\n",
    "mydf.loc[:,[\"model\", \"mpg\"]]\n",
    "#higher than 20\n",
    "si = mydf.loc[:,[\"mpg\"]] > 20\n",
    "si[\"mpg\"]\n",
    "mydf.loc[si[\"mpg\"]]\n",
    "#or more simply\n",
    "mydf[mydf['mpg'] > 20]\n",
    "#note - using loc we adress rows, without loc -> columns\n",
    "\n",
    "#show only mazda cars, using re\n",
    "mydf[mydf[\"model\"].str.contains(\"^mazda\", case=False)]\n",
    "\n",
    "#data types of columns\n",
    "print(mydf.dtypes)\n",
    "#indexing - values\n",
    "print(mydf.values[:,1])\n",
    "print(mydf.columns[0])\n",
    "print(mydf.index[0])\n",
    "\n",
    "#basic stats\n",
    "\n"
   ]
  },
  {
   "cell_type": "code",
   "execution_count": null,
   "metadata": {},
   "outputs": [],
   "source": [
    "#NA values in python....."
   ]
  }
 ],
 "metadata": {
  "interpreter": {
   "hash": "c58f1d446a10f56abd790b8999ca91b105d88cea35470c93be5a117fec9046ce"
  },
  "kernelspec": {
   "display_name": "Python 3.9.9 64-bit (windows store)",
   "language": "python",
   "name": "python3"
  },
  "language_info": {
   "codemirror_mode": {
    "name": "ipython",
    "version": 3
   },
   "file_extension": ".py",
   "mimetype": "text/x-python",
   "name": "python",
   "nbconvert_exporter": "python",
   "pygments_lexer": "ipython3",
   "version": "3.9.9"
  },
  "orig_nbformat": 4
 },
 "nbformat": 4,
 "nbformat_minor": 2
}
